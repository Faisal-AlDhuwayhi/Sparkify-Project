{
 "cells": [
  {
   "cell_type": "markdown",
   "metadata": {},
   "source": [
    "# Sparkify Project Workspace\n",
    "This workspace contains a tiny subset (128MB) of the full dataset available (12GB). Feel free to use this workspace to build your project, or to explore a smaller subset with Spark before deploying your cluster on the cloud. Instructions for setting up your Spark cluster is included in the last lesson of the Extracurricular Spark Course content.\n",
    "\n",
    "You can follow the steps below to guide your data analysis and model building portion of this project."
   ]
  },
  {
   "cell_type": "code",
   "execution_count": 2,
   "metadata": {},
   "outputs": [],
   "source": [
    "# import libraries\n",
    "from pyspark.sql import SparkSession\n",
    "from pyspark.sql.functions import avg, col, concat, desc, explode, lit, split, udf, isnull\n",
    "from pyspark.sql.functions import sum as Fsum\n",
    "from pyspark.sql.functions import min as Fmin\n",
    "from pyspark.sql.functions import max as Fmax\n",
    "from pyspark.sql.types import IntegerType\n",
    "from pyspark.sql import Window\n",
    "\n",
    "from pyspark.ml import Pipeline\n",
    "from pyspark.ml.classification import LogisticRegression, RandomForestClassifier, GBTClassifier\n",
    "from pyspark.ml.evaluation import BinaryClassificationEvaluator\n",
    "from pyspark.ml.feature import StandardScaler, VectorAssembler\n",
    "from pyspark.ml.tuning import CrossValidator, ParamGridBuilder"
   ]
  },
  {
   "cell_type": "code",
   "execution_count": 3,
   "metadata": {},
   "outputs": [],
   "source": [
    "import re\n",
    "import datetime\n",
    "import pandas as pd\n",
    "import numpy as np\n",
    "import matplotlib.pyplot as plt\n",
    "import seaborn as sns\n",
    "\n",
    "%matplotlib inline"
   ]
  },
  {
   "cell_type": "code",
   "execution_count": 4,
   "metadata": {},
   "outputs": [],
   "source": [
    "# create a Spark session\n",
    "spark = SparkSession.builder \\\n",
    "        .master(\"local\") \\\n",
    "        .appName(\"Sparkify Project\") \\\n",
    "        .getOrCreate()"
   ]
  },
  {
   "cell_type": "markdown",
   "metadata": {},
   "source": [
    "# Load and Clean Dataset\n",
    "In this workspace, the mini-dataset file is `mini_sparkify_event_data.json`. Load and clean the dataset, checking for invalid or missing data - for example, records without userids or sessionids. "
   ]
  },
  {
   "cell_type": "code",
   "execution_count": 5,
   "metadata": {},
   "outputs": [
    {
     "data": {
      "text/plain": [
       "DataFrame[artist: string, auth: string, firstName: string, gender: string, itemInSession: bigint, lastName: string, length: double, level: string, location: string, method: string, page: string, registration: bigint, sessionId: bigint, song: string, status: bigint, ts: bigint, userAgent: string, userId: string]"
      ]
     },
     "execution_count": 5,
     "metadata": {},
     "output_type": "execute_result"
    }
   ],
   "source": [
    "# read the data from the json file\n",
    "df = spark.read.json(\"mini_sparkify_event_data.json\")\n",
    "df.persist()"
   ]
  },
  {
   "cell_type": "code",
   "execution_count": 6,
   "metadata": {},
   "outputs": [
    {
     "name": "stdout",
     "output_type": "stream",
     "text": [
      "The number of rows in the dataframe: 286500\n",
      "The number of columns in the dataframe: 18\n"
     ]
    }
   ],
   "source": [
    "# number of rows and columns in the data\n",
    "print(\"The number of rows in the dataframe: {}\".format(df.count()))\n",
    "print(\"The number of columns in the dataframe: {}\".format(len(df.columns)))"
   ]
  },
  {
   "cell_type": "code",
   "execution_count": 7,
   "metadata": {},
   "outputs": [
    {
     "name": "stdout",
     "output_type": "stream",
     "text": [
      "root\n",
      " |-- artist: string (nullable = true)\n",
      " |-- auth: string (nullable = true)\n",
      " |-- firstName: string (nullable = true)\n",
      " |-- gender: string (nullable = true)\n",
      " |-- itemInSession: long (nullable = true)\n",
      " |-- lastName: string (nullable = true)\n",
      " |-- length: double (nullable = true)\n",
      " |-- level: string (nullable = true)\n",
      " |-- location: string (nullable = true)\n",
      " |-- method: string (nullable = true)\n",
      " |-- page: string (nullable = true)\n",
      " |-- registration: long (nullable = true)\n",
      " |-- sessionId: long (nullable = true)\n",
      " |-- song: string (nullable = true)\n",
      " |-- status: long (nullable = true)\n",
      " |-- ts: long (nullable = true)\n",
      " |-- userAgent: string (nullable = true)\n",
      " |-- userId: string (nullable = true)\n",
      "\n"
     ]
    }
   ],
   "source": [
    "# show the columns of the data\n",
    "df.printSchema()"
   ]
  },
  {
   "cell_type": "code",
   "execution_count": 8,
   "metadata": {},
   "outputs": [
    {
     "data": {
      "text/plain": [
       "[Row(artist='Martha Tilston', auth='Logged In', firstName='Colin', gender='M', itemInSession=50, lastName='Freeman', length=277.89016, level='paid', location='Bakersfield, CA', method='PUT', page='NextSong', registration=1538173362000, sessionId=29, song='Rockpools', status=200, ts=1538352117000, userAgent='Mozilla/5.0 (Windows NT 6.1; WOW64; rv:31.0) Gecko/20100101 Firefox/31.0', userId='30')]"
      ]
     },
     "execution_count": 8,
     "metadata": {},
     "output_type": "execute_result"
    }
   ],
   "source": [
    "# the first row of the data\n",
    "df.head(1)"
   ]
  },
  {
   "cell_type": "code",
   "execution_count": 9,
   "metadata": {},
   "outputs": [
    {
     "name": "stdout",
     "output_type": "stream",
     "text": [
      "The number of missing values in userId column: 0\n",
      "The number of missing values in sessionId column: 0\n"
     ]
    }
   ],
   "source": [
    "# userId & sessionId missing values\n",
    "userId_nan = df.filter(isnull(col(\"userId\"))).count()\n",
    "sessionId_nan = df.filter(isnull(col(\"sessionId\"))).count()\n",
    "print(\"The number of missing values in userId column: {}\".format(userId_nan))\n",
    "print(\"The number of missing values in sessionId column: {}\".format(sessionId_nan))"
   ]
  },
  {
   "cell_type": "code",
   "execution_count": 10,
   "metadata": {},
   "outputs": [],
   "source": [
    "# drop rows of missing values of userId or sessionId\n",
    "df = df.dropna(how = \"any\", subset = [\"userId\", \"sessionId\"])"
   ]
  },
  {
   "cell_type": "code",
   "execution_count": 11,
   "metadata": {},
   "outputs": [
    {
     "name": "stdout",
     "output_type": "stream",
     "text": [
      "The number of empty values in userId column: 8346\n"
     ]
    }
   ],
   "source": [
    "# count userId empty values\n",
    "userId_empty = df.filter(df.userId == \"\").count()\n",
    "print(\"The number of empty values in userId column: {}\".format(userId_empty))"
   ]
  },
  {
   "cell_type": "code",
   "execution_count": 12,
   "metadata": {},
   "outputs": [],
   "source": [
    "# remove records with empty userId\n",
    "df = df.filter(df.userId != '')"
   ]
  },
  {
   "cell_type": "code",
   "execution_count": 13,
   "metadata": {},
   "outputs": [
    {
     "name": "stdout",
     "output_type": "stream",
     "text": [
      "+-------+------------------+---------+---------+------+------------------+--------+\n",
      "|summary|            artist|     auth|firstName|gender|     itemInSession|lastName|\n",
      "+-------+------------------+---------+---------+------+------------------+--------+\n",
      "|  count|            228108|   278154|   278154|278154|            278154|  278154|\n",
      "|   mean| 551.0852017937219|     null|     null|  null|114.89918174824018|    null|\n",
      "| stddev|1217.7693079161374|     null|     null|  null|  129.851729399489|    null|\n",
      "|    min|               !!!|Cancelled| Adelaida|     F|                 0|   Adams|\n",
      "|    max| ÃÂlafur Arnalds|Logged In|   Zyonna|     M|              1321|  Wright|\n",
      "+-------+------------------+---------+---------+------+------------------+--------+\n",
      "\n",
      "+-------+-----------------+------+-----------------+------+-------+--------------------+------------------+\n",
      "|summary|           length| level|         location|method|   page|        registration|         sessionId|\n",
      "+-------+-----------------+------+-----------------+------+-------+--------------------+------------------+\n",
      "|  count|           228108|278154|           278154|278154| 278154|              278154|            278154|\n",
      "|   mean|249.1171819778458|  null|             null|  null|   null|1.535358834084427...|1042.5616241362698|\n",
      "| stddev|99.23517921058361|  null|             null|  null|   null| 3.291321616327586E9| 726.5010362219813|\n",
      "|    min|          0.78322|  free|       Albany, OR|   GET|  About|       1521380675000|                 1|\n",
      "|    max|       3024.66567|  paid|Winston-Salem, NC|   PUT|Upgrade|       1543247354000|              2474|\n",
      "+-------+-----------------+------+-----------------+------+-------+--------------------+------------------+\n",
      "\n",
      "+-------+--------------------+------------------+--------------------+--------------------+-----------------+\n",
      "|summary|                song|            status|                  ts|           userAgent|           userId|\n",
      "+-------+--------------------+------------------+--------------------+--------------------+-----------------+\n",
      "|  count|              228108|            278154|              278154|              278154|           278154|\n",
      "|   mean|            Infinity|209.10321620397335|1.540958915431871...|                null|59682.02278593872|\n",
      "| stddev|                 NaN|30.151388851328214|1.5068287123306298E9|                null|109091.9499991047|\n",
      "|    min|\u001c",
      "ÃÂg ÃÂtti Gr...|               200|       1538352117000|\"Mozilla/5.0 (Mac...|               10|\n",
      "|    max|ÃÂau hafa slopp...|               404|       1543799476000|Mozilla/5.0 (comp...|               99|\n",
      "+-------+--------------------+------------------+--------------------+--------------------+-----------------+\n",
      "\n"
     ]
    }
   ],
   "source": [
    "# stats about the data\n",
    "df.describe(df.columns[:6]).show()\n",
    "df.describe(df.columns[6:13]).show()\n",
    "df.describe(df.columns[13:]).show()"
   ]
  },
  {
   "cell_type": "markdown",
   "metadata": {},
   "source": [
    "# Exploratory Data Analysis\n",
    "When you're working with the full dataset, perform EDA by loading a small subset of the data and doing basic manipulations within Spark. In this workspace, you are already provided a small subset of data you can explore.\n",
    "\n",
    "### Define Churn\n",
    "\n",
    "Once you've done some preliminary analysis, create a column `Churn` to use as the label for your model. I suggest using the `Cancellation Confirmation` events to define your churn, which happen for both paid and free users. As a bonus task, you can also look into the `Downgrade` events.\n",
    "\n",
    "### Explore Data\n",
    "Once you've defined churn, perform some exploratory data analysis to observe the behavior for users who stayed vs users who churned. You can start by exploring aggregates on these two groups of users, observing how much of a specific action they experienced per a certain time unit or number of songs played."
   ]
  },
  {
   "cell_type": "code",
   "execution_count": 14,
   "metadata": {},
   "outputs": [],
   "source": [
    "# create new columns with clear representation for the timestamp and registration\n",
    "update_time = udf(lambda x: datetime.datetime.fromtimestamp(x / 1000.0).strftime(\"%m-%d-%Y %H:%M:%S\"))\n",
    "df = df.withColumn('new_registration', update_time(col('registration')))\n",
    "df = df.withColumn('new_ts', update_time(col('ts')))"
   ]
  },
  {
   "cell_type": "code",
   "execution_count": 15,
   "metadata": {},
   "outputs": [],
   "source": [
    "# create a new column \"churn\" to label cancellation events\n",
    "churn_label = udf(lambda x: 1 if x == \"Cancellation Confirmation\" else 0, IntegerType())\n",
    "df = df.withColumn(\"churn\", churn_label(\"page\"))\n",
    "\n",
    "# create a new column \"downgrade\" to label downgrade events\n",
    "downgrade_label  = udf(lambda x: 1 if x == \"Submit Downgrade\" else 0, IntegerType())\n",
    "df = df.withColumn(\"downgrade\", downgrade_label(\"page\"))"
   ]
  },
  {
   "cell_type": "code",
   "execution_count": 16,
   "metadata": {},
   "outputs": [],
   "source": [
    "# create an additive \"Fsum\" (from 0 to n-1 phases) window for churn and downgrade phases\n",
    "downgrade_window = Window.partitionBy('UserId').orderBy(desc(\"ts\")).rangeBetween(Window.unboundedPreceding, 0)\n",
    "\n",
    "df = df.withColumn(\"downgrade_phase\", Fsum('downgrade').over(downgrade_window))\n",
    "\n",
    "churn_window = Window.partitionBy(\"userId\").orderBy(desc(\"ts\")).rangeBetween(Window.unboundedPreceding, 0)\n",
    "\n",
    "df = df.withColumn(\"churn_phase\", Fsum('churn').over(churn_window))"
   ]
  },
  {
   "cell_type": "code",
   "execution_count": 17,
   "metadata": {},
   "outputs": [
    {
     "name": "stdout",
     "output_type": "stream",
     "text": [
      "+-----------+-----+\n",
      "|churn_phase|count|\n",
      "+-----------+-----+\n",
      "|          0|  173|\n",
      "|          1|   52|\n",
      "+-----------+-----+\n",
      "\n"
     ]
    }
   ],
   "source": [
    "# Number of active and cancelled users \n",
    "df.drop_duplicates(['userId']).groupby(['churn_phase']).count().sort(\"churn_phase\").show()"
   ]
  },
  {
   "cell_type": "code",
   "execution_count": 18,
   "metadata": {},
   "outputs": [
    {
     "data": {
      "image/png": "[encoded data removed]",
      "text/plain": [
       "<matplotlib.figure.Figure at 0x7fe4938b6128>"
      ]
     },
     "metadata": {
      "needs_background": "light"
     },
     "output_type": "display_data"
    }
   ],
   "source": [
    "# Gender Distribution by User Status Plot\n",
    "churn_gender = df.drop_duplicates(['userId', 'gender']).groupby(['churn_phase', 'gender']).count() \\\n",
    "                .sort(\"churn_phase\").toPandas()\n",
    "\n",
    "sns.barplot(data=churn_gender, x='churn_phase', y='count', hue='gender')\n",
    "plt.title(\"Gender Distribution by User Status\")\n",
    "plt.xlabel(\"User Status\")\n",
    "plt.ylabel(\"Number of Users\")\n",
    "user_status = ['Active', 'Cancelled']\n",
    "plt.xticks(np.arange(len(user_status)), user_status)\n",
    "plt.legend(title='Gender');"
   ]
  },
  {
   "cell_type": "code",
   "execution_count": 19,
   "metadata": {},
   "outputs": [
    {
     "data": {
      "image/png": "[encoded data removed]",
      "text/plain": [
       "<matplotlib.figure.Figure at 0x7fe49302c128>"
      ]
     },
     "metadata": {
      "needs_background": "light"
     },
     "output_type": "display_data"
    }
   ],
   "source": [
    "# Level Distribution by User Status Plot\n",
    "churn_level = df.drop_duplicates(['userId']).groupby(['churn_phase', 'level']).count() \\\n",
    "            .sort(\"churn_phase\").toPandas()\n",
    "\n",
    "sns.barplot(data=churn_level, x='churn_phase', y='count', hue='level')\n",
    "plt.title(\"Level Distribution by User Status\")\n",
    "plt.xlabel(\"User Status\")\n",
    "plt.ylabel(\"Number of Users\")\n",
    "plt.xticks(np.arange(len(user_status)), user_status)\n",
    "plt.legend(title='Level');"
   ]
  },
  {
   "cell_type": "code",
   "execution_count": 20,
   "metadata": {},
   "outputs": [
    {
     "data": {
      "image/png": "[encoded data removed]",
      "text/plain": [
       "<matplotlib.figure.Figure at 0x7fe490ea8898>"
      ]
     },
     "metadata": {
      "needs_background": "light"
     },
     "output_type": "display_data"
    }
   ],
   "source": [
    "# Avg. Music Length Listened Distribution by User Status Plot\n",
    "churn_length = df.groupby('churn_phase').avg().select('churn_phase', 'avg(length)') \\\n",
    "                .sort(\"churn_phase\").toPandas()\n",
    "\n",
    "sns.barplot(data=churn_length, x='churn_phase', y='avg(length)')\n",
    "plt.title(\"Music Length Listened Distribution by User Status\")\n",
    "plt.xlabel(\"User Status\")\n",
    "plt.ylabel(\"Avg. of Music Length\")\n",
    "plt.xticks(np.arange(len(user_status)), user_status);"
   ]
  },
  {
   "cell_type": "code",
   "execution_count": 21,
   "metadata": {},
   "outputs": [
    {
     "name": "stdout",
     "output_type": "stream",
     "text": [
      "+--------------------+\n",
      "|                page|\n",
      "+--------------------+\n",
      "|              Cancel|\n",
      "|    Submit Downgrade|\n",
      "|         Thumbs Down|\n",
      "|                Home|\n",
      "|           Downgrade|\n",
      "|         Roll Advert|\n",
      "|              Logout|\n",
      "|       Save Settings|\n",
      "|Cancellation Conf...|\n",
      "|               About|\n",
      "|            Settings|\n",
      "|     Add to Playlist|\n",
      "|          Add Friend|\n",
      "|            NextSong|\n",
      "|           Thumbs Up|\n",
      "|                Help|\n",
      "|             Upgrade|\n",
      "|               Error|\n",
      "|      Submit Upgrade|\n",
      "+--------------------+\n",
      "\n"
     ]
    }
   ],
   "source": [
    "# the different types of pages/events\n",
    "df.select(\"page\").dropDuplicates().show()"
   ]
  },
  {
   "cell_type": "code",
   "execution_count": 22,
   "metadata": {
    "scrolled": false
   },
   "outputs": [
    {
     "data": {
      "image/png": "[encoded data removed]",
      "text/plain": [
       "<matplotlib.figure.Figure at 0x7fe49a601048>"
      ]
     },
     "metadata": {
      "needs_background": "light"
     },
     "output_type": "display_data"
    }
   ],
   "source": [
    "# Percentage of Events Distribution by User Status\n",
    "churn_page = df.groupby(['page','churn_phase']).count().sort([\"page\", \"churn_phase\"]).toPandas()\n",
    "## remove NextSong event since it will cover the main percetage in each churn class (0 & 1)\n",
    "churn_page = churn_page[churn_page['page'] != 'NextSong']\n",
    "churn_page = ((churn_page.groupby(['page','churn_phase']).sum()/churn_page.groupby(['churn_phase']).sum())*100) \\\n",
    "            .reset_index()\n",
    "\n",
    "churn_page['churn_phase'] = churn_page['churn_phase'].replace({0:'Active', 1: 'Cancelled'})\n",
    "                                                      \n",
    "plt.figure(figsize=(8,10))\n",
    "sns.barplot(data=churn_page, x='count', y='page', hue=\"churn_phase\")\n",
    "plt.title(\"Percentage of Events Distribution by User Status\")\n",
    "plt.xlabel(\"User Status\")\n",
    "plt.ylabel(\"Percentage of Events\")\n",
    "plt.legend(title='User Status');"
   ]
  },
  {
   "cell_type": "code",
   "execution_count": 23,
   "metadata": {},
   "outputs": [],
   "source": [
    "# create a column of the hour of the event \n",
    "get_hour = udf(lambda x: datetime.datetime.fromtimestamp(x / 1000.0).hour)\n",
    "df = df.withColumn(\"hour\", get_hour(df.ts))"
   ]
  },
  {
   "cell_type": "code",
   "execution_count": 24,
   "metadata": {},
   "outputs": [
    {
     "data": {
      "image/png": "[encoded data removed]",
      "text/plain": [
       "<matplotlib.figure.Figure at 0x7fe490f6b780>"
      ]
     },
     "metadata": {
      "needs_background": "light"
     },
     "output_type": "display_data"
    }
   ],
   "source": [
    "# Percentage of Events Distribution by User Status Per Hour\n",
    "churn_hour = df.groupby(['hour','churn_phase']).count().toPandas()\n",
    "churn_hour = ((churn_hour.groupby(['hour','churn_phase']).sum()/churn_hour.groupby(['churn_phase']).sum())*100) \\\n",
    "            .reset_index()\n",
    "\n",
    "churn_hour['hour'] = churn_hour['hour'].astype(int)\n",
    "churn_hour = churn_hour.sort_values(by = ['hour', 'churn_phase'])\n",
    "churn_hour['churn_phase'] = churn_hour['churn_phase'].replace({0:'Active', 1: 'Cancelled'})\n",
    "\n",
    "plt.figure(figsize=(16,5))\n",
    "sns.barplot(data=churn_hour, x='hour', y='count', hue=\"churn_phase\")\n",
    "plt.title(\"Percentage of Events Distribution by User Status Per Hour\")\n",
    "plt.xlabel(\"User Status\")\n",
    "plt.ylabel(\"Percentage of Events\")\n",
    "plt.legend(title='User Status');"
   ]
  },
  {
   "cell_type": "code",
   "execution_count": null,
   "metadata": {},
   "outputs": [],
   "source": []
  },
  {
   "cell_type": "markdown",
   "metadata": {},
   "source": [
    "# Feature Engineering\n",
    "Once you've familiarized yourself with the data, build out the features you find promising to train your model on. To work with the full dataset, you can follow the following steps.\n",
    "- Write a script to extract the necessary features from the smaller subset of data\n",
    "- Ensure that your script is scalable, using the best practices discussed in Lesson 3\n",
    "- Try your script on the full data set, debugging your script if necessary\n",
    "\n",
    "If you are working in the classroom workspace, you can just extract features based on the small subset of data contained here. Be sure to transfer over this work to the larger dataset when you work on your Spark cluster."
   ]
  },
  {
   "cell_type": "code",
   "execution_count": 25,
   "metadata": {},
   "outputs": [],
   "source": [
    "# Feature 1: gender of the user\n",
    "user_gender = df.select('userId', 'gender').dropDuplicates().replace(['F', 'M'], ['0', '1'], 'gender') \\\n",
    "             .select('userId', col('gender').cast('int'))"
   ]
  },
  {
   "cell_type": "code",
   "execution_count": 26,
   "metadata": {},
   "outputs": [],
   "source": [
    "# Feature 2: Total time of listened length\n",
    "listen_time = df.select('userID','length').groupBy('userID').sum().withColumnRenamed('sum(length)', 'listen_time')"
   ]
  },
  {
   "cell_type": "code",
   "execution_count": 27,
   "metadata": {},
   "outputs": [],
   "source": [
    "# Feature 3: Number of songs listened\n",
    "num_songs = df.select('userId', 'song').groupBy('userId').count().withColumnRenamed('count', 'num_songs')"
   ]
  },
  {
   "cell_type": "code",
   "execution_count": 28,
   "metadata": {},
   "outputs": [],
   "source": [
    "# Feature 4 : Total number of artists the user has listened to\n",
    "num_artists = df.filter(df.page == \"NextSong\").select(\"userId\", \"artist\").dropDuplicates().groupby(\"userId\").count() \\\n",
    "             .withColumnRenamed(\"count\", \"num_artists\")"
   ]
  },
  {
   "cell_type": "code",
   "execution_count": 29,
   "metadata": {},
   "outputs": [],
   "source": [
    "# Feature 5: Avg. time spent in the platform\n",
    "spend_time = df.select('userId', 'registration', 'ts').withColumn('spend_time', (df.ts-df.registration)) \\\n",
    "            .select('userId', 'spend_time').groupBy('userId').avg() \\\n",
    "            .withColumnRenamed('avg(spend_time)', 'avg_spend_time')"
   ]
  },
  {
   "cell_type": "code",
   "execution_count": 30,
   "metadata": {},
   "outputs": [],
   "source": [
    "# Feature 6: Number of thumbs up\n",
    "num_thumb_up = df.select('userId','page').filter(df.page == \"Thumbs Up\").groupby(\"userId\").count() \\\n",
    "                .withColumnRenamed('count', 'num_thumb_up')\n",
    "\n",
    "# Feature 7: Number of thumbs down\n",
    "num_thumb_down = df.select('userId','page').filter(df.page == \"Thumbs Down\").groupby(\"userId\").count() \\\n",
    "                .withColumnRenamed('count', 'num_thumb_down')"
   ]
  },
  {
   "cell_type": "code",
   "execution_count": 31,
   "metadata": {},
   "outputs": [],
   "source": [
    "# Feature 8: Number of adds to playlist\n",
    "num_add_playlist = df.select('userId','page').filter(df.page == \"Add to Playlist\").groupby(\"userId\").count() \\\n",
    "                .withColumnRenamed('count', 'num_add_playlist')"
   ]
  },
  {
   "cell_type": "code",
   "execution_count": 32,
   "metadata": {},
   "outputs": [],
   "source": [
    "# Feature 9: Number of upgrades\n",
    "num_upgrade = df.select('userId','page').filter(df.page == \"Submit Upgrade\").groupby(\"userId\").count() \\\n",
    "                .withColumnRenamed('count', 'num_upgrade')\n",
    "\n",
    "# Feature 10: Number of downgrades\n",
    "num_downgrade = df.select('userId','page').filter(df.page == \"Submit Downgrade\").groupby(\"userId\").count() \\\n",
    "                .withColumnRenamed('count', 'num_downgrade')"
   ]
  },
  {
   "cell_type": "code",
   "execution_count": 33,
   "metadata": {},
   "outputs": [],
   "source": [
    "# Feature 11: Number of roll advert\n",
    "num_advert = df.select('userId','page').filter(df.page == \"Roll Advert\").groupby(\"userId\").count() \\\n",
    "                .withColumnRenamed('count', 'num_advert')"
   ]
  },
  {
   "cell_type": "code",
   "execution_count": 34,
   "metadata": {},
   "outputs": [],
   "source": [
    "# Feature 12: Number of friends\n",
    "num_friends = df.select('userId','page').filter(df.page == \"Add Friend\").groupby(\"userId\").count() \\\n",
    "                .withColumnRenamed('count', 'num_friends')"
   ]
  },
  {
   "cell_type": "code",
   "execution_count": 35,
   "metadata": {},
   "outputs": [],
   "source": [
    "# Feature 13: Number of help \n",
    "num_help = df.select('userId','page').filter(df.page == \"Help\").groupby(\"userId\").count() \\\n",
    "                .withColumnRenamed('count', 'num_help')\n",
    "\n",
    "# Feature 14: Number of error\n",
    "num_error = df.select('userId','page').filter(df.page == \"Error\").groupby(\"userId\").count() \\\n",
    "                .withColumnRenamed('count', 'num_error')"
   ]
  },
  {
   "cell_type": "code",
   "execution_count": 36,
   "metadata": {},
   "outputs": [],
   "source": [
    "# combine all the features on the userId\n",
    "features = user_gender.join(listen_time, \"userId\") \\\n",
    "        .join(num_songs, \"userId\") \\\n",
    "        .join(num_artists, \"userId\") \\\n",
    "        .join(spend_time, \"userId\") \\\n",
    "        .join(num_thumb_up, \"userId\") \\\n",
    "        .join(num_thumb_down, \"userId\") \\\n",
    "        .join(num_add_playlist, \"userId\") \\\n",
    "        .join(num_upgrade, \"userId\") \\\n",
    "        .join(num_downgrade, \"userId\") \\\n",
    "        .join(num_advert, \"userId\") \\\n",
    "        .join(num_friends, \"userId\") \\\n",
    "        .join(num_help, \"userId\") \\\n",
    "        .join(num_error, \"userId\") \\"
   ]
  },
  {
   "cell_type": "code",
   "execution_count": 37,
   "metadata": {},
   "outputs": [],
   "source": [
    "# set churn as the label\n",
    "label = df.select('userId', col('churn_phase').alias('label')).dropDuplicates()"
   ]
  },
  {
   "cell_type": "code",
   "execution_count": 38,
   "metadata": {},
   "outputs": [],
   "source": [
    "# join the features and label\n",
    "data = features.join(label, \"userId\").drop(\"userId\")"
   ]
  },
  {
   "cell_type": "code",
   "execution_count": 39,
   "metadata": {},
   "outputs": [],
   "source": [
    "# create a vector for the features\n",
    "feature_col = data.columns\n",
    "feature_col.remove(\"label\")\n",
    "assembler = VectorAssembler(inputCols=feature_col, outputCol=\"features_vec\")\n",
    "data = assembler.transform(data)"
   ]
  },
  {
   "cell_type": "code",
   "execution_count": 40,
   "metadata": {},
   "outputs": [],
   "source": [
    "# scale the data with Standard Scaler\n",
    "scaler = StandardScaler(inputCol=\"features_vec\", outputCol=\"features\", withStd=True)\n",
    "scalerModel = scaler.fit(data)\n",
    "data = scalerModel.transform(data)"
   ]
  },
  {
   "cell_type": "markdown",
   "metadata": {},
   "source": [
    "# Modeling\n",
    "Split the full dataset into train, test, and validation sets. Test out several of the machine learning methods you learned. Evaluate the accuracy of the various models, tuning parameters as necessary. Determine your winning model based on test accuracy and report results on the validation set. Since the churned users are a fairly small subset, I suggest using F1 score as the metric to optimize."
   ]
  },
  {
   "cell_type": "code",
   "execution_count": null,
   "metadata": {},
   "outputs": [],
   "source": []
  },
  {
   "cell_type": "code",
   "execution_count": null,
   "metadata": {},
   "outputs": [],
   "source": []
  },
  {
   "cell_type": "code",
   "execution_count": null,
   "metadata": {},
   "outputs": [],
   "source": []
  },
  {
   "cell_type": "code",
   "execution_count": null,
   "metadata": {},
   "outputs": [],
   "source": []
  },
  {
   "cell_type": "code",
   "execution_count": null,
   "metadata": {},
   "outputs": [],
   "source": []
  },
  {
   "cell_type": "code",
   "execution_count": null,
   "metadata": {},
   "outputs": [],
   "source": []
  },
  {
   "cell_type": "code",
   "execution_count": null,
   "metadata": {},
   "outputs": [],
   "source": []
  },
  {
   "cell_type": "code",
   "execution_count": null,
   "metadata": {},
   "outputs": [],
   "source": []
  },
  {
   "cell_type": "markdown",
   "metadata": {},
   "source": [
    "# Final Steps\n",
    "Clean up your code, adding comments and renaming variables to make the code easier to read and maintain. Refer to the Spark Project Overview page and Data Scientist Capstone Project Rubric to make sure you are including all components of the capstone project and meet all expectations. Remember, this includes thorough documentation in a README file in a Github repository, as well as a web app or blog post."
   ]
  },
  {
   "cell_type": "code",
   "execution_count": null,
   "metadata": {},
   "outputs": [],
   "source": []
  }
 ],
 "metadata": {
  "kernelspec": {
   "display_name": "Python 3",
   "language": "python",
   "name": "python3"
  },
  "language_info": {
   "codemirror_mode": {
    "name": "ipython",
    "version": 3
   },
   "file_extension": ".py",
   "mimetype": "text/x-python",
   "name": "python",
   "nbconvert_exporter": "python",
   "pygments_lexer": "ipython3",
   "version": "3.6.3"
  }
 },
 "nbformat": 4,
 "nbformat_minor": 2
}
